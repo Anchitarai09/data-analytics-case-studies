{
 "cells": [
  {
   "cell_type": "markdown",
   "id": "d7f852bb-a4da-40b0-b5fa-f88e001b77b9",
   "metadata": {},
   "source": [
    "# import libraries"
   ]
  },
  {
   "cell_type": "code",
   "execution_count": 1,
   "id": "fc637289-4984-4e24-b08f-efcc433ce717",
   "metadata": {},
   "outputs": [],
   "source": [
    "import numpy as np\n",
    "import pandas as pd\n",
    "import matplotlib.pyplot as plt\n",
    "import seaborn as sns"
   ]
  },
  {
   "cell_type": "markdown",
   "id": "95d67cb5-dcfc-4a35-b42c-e23b60c67500",
   "metadata": {},
   "source": [
    "# load CSV file "
   ]
  },
  {
   "cell_type": "code",
   "execution_count": 108,
   "id": "786e6137-0b39-40e1-b022-e233478dc2c8",
   "metadata": {},
   "outputs": [
    {
     "data": {
      "text/html": [
       "<div>\n",
       "<style scoped>\n",
       "    .dataframe tbody tr th:only-of-type {\n",
       "        vertical-align: middle;\n",
       "    }\n",
       "\n",
       "    .dataframe tbody tr th {\n",
       "        vertical-align: top;\n",
       "    }\n",
       "\n",
       "    .dataframe thead th {\n",
       "        text-align: right;\n",
       "    }\n",
       "</style>\n",
       "<table border=\"1\" class=\"dataframe\">\n",
       "  <thead>\n",
       "    <tr style=\"text-align: right;\">\n",
       "      <th></th>\n",
       "      <th>RowId</th>\n",
       "      <th>Order ID</th>\n",
       "      <th>Order Date</th>\n",
       "      <th>Ship Date</th>\n",
       "      <th>Ship Mode</th>\n",
       "      <th>Customer ID</th>\n",
       "      <th>Customer Name</th>\n",
       "      <th>Segment</th>\n",
       "      <th>Country/Region</th>\n",
       "      <th>City</th>\n",
       "      <th>...</th>\n",
       "      <th>Postal Code</th>\n",
       "      <th>Region</th>\n",
       "      <th>Product ID</th>\n",
       "      <th>Category</th>\n",
       "      <th>Sub-Category</th>\n",
       "      <th>Product Name</th>\n",
       "      <th>Sales</th>\n",
       "      <th>Quantity</th>\n",
       "      <th>Discount</th>\n",
       "      <th>Profit</th>\n",
       "    </tr>\n",
       "  </thead>\n",
       "  <tbody>\n",
       "    <tr>\n",
       "      <th>0</th>\n",
       "      <td>1</td>\n",
       "      <td>CA-2021-152156</td>\n",
       "      <td>11/8/2021</td>\n",
       "      <td>11/11/2021</td>\n",
       "      <td>Second Class</td>\n",
       "      <td>CG-12520</td>\n",
       "      <td>Claire Gute</td>\n",
       "      <td>Consumer</td>\n",
       "      <td>United States</td>\n",
       "      <td>Henderson</td>\n",
       "      <td>...</td>\n",
       "      <td>42420.0</td>\n",
       "      <td>South</td>\n",
       "      <td>FUR-BO-10001798</td>\n",
       "      <td>Furniture</td>\n",
       "      <td>Bookcases</td>\n",
       "      <td>Bush Somerset Collection Bookcase</td>\n",
       "      <td>261.96</td>\n",
       "      <td>2</td>\n",
       "      <td>0.0</td>\n",
       "      <td>41.9136</td>\n",
       "    </tr>\n",
       "    <tr>\n",
       "      <th>1</th>\n",
       "      <td>2</td>\n",
       "      <td>CA-2021-152156</td>\n",
       "      <td>11/8/2021</td>\n",
       "      <td>11/11/2021</td>\n",
       "      <td>Second Class</td>\n",
       "      <td>CG-12520</td>\n",
       "      <td>Claire Gute</td>\n",
       "      <td>Consumer</td>\n",
       "      <td>United States</td>\n",
       "      <td>Henderson</td>\n",
       "      <td>...</td>\n",
       "      <td>42420.0</td>\n",
       "      <td>South</td>\n",
       "      <td>FUR-CH-10000454</td>\n",
       "      <td>Furniture</td>\n",
       "      <td>Chairs</td>\n",
       "      <td>Hon Deluxe Fabric Upholstered Stacking Chairs,...</td>\n",
       "      <td>731.94</td>\n",
       "      <td>3</td>\n",
       "      <td>0.0</td>\n",
       "      <td>219.5820</td>\n",
       "    </tr>\n",
       "  </tbody>\n",
       "</table>\n",
       "<p>2 rows × 21 columns</p>\n",
       "</div>"
      ],
      "text/plain": [
       "   RowId        Order ID Order Date   Ship Date     Ship Mode Customer ID  \\\n",
       "0      1  CA-2021-152156  11/8/2021  11/11/2021  Second Class    CG-12520   \n",
       "1      2  CA-2021-152156  11/8/2021  11/11/2021  Second Class    CG-12520   \n",
       "\n",
       "  Customer Name   Segment Country/Region       City  ... Postal Code  Region  \\\n",
       "0   Claire Gute  Consumer  United States  Henderson  ...     42420.0   South   \n",
       "1   Claire Gute  Consumer  United States  Henderson  ...     42420.0   South   \n",
       "\n",
       "        Product ID   Category Sub-Category  \\\n",
       "0  FUR-BO-10001798  Furniture    Bookcases   \n",
       "1  FUR-CH-10000454  Furniture       Chairs   \n",
       "\n",
       "                                        Product Name   Sales  Quantity  \\\n",
       "0                  Bush Somerset Collection Bookcase  261.96         2   \n",
       "1  Hon Deluxe Fabric Upholstered Stacking Chairs,...  731.94         3   \n",
       "\n",
       "   Discount    Profit  \n",
       "0       0.0   41.9136  \n",
       "1       0.0  219.5820  \n",
       "\n",
       "[2 rows x 21 columns]"
      ]
     },
     "execution_count": 108,
     "metadata": {},
     "output_type": "execute_result"
    }
   ],
   "source": [
    "df=pd.read_csv(\"Superstore.csv\")\n",
    "df.head(2)"
   ]
  },
  {
   "cell_type": "markdown",
   "id": "e813ef76-55dc-4216-896e-56ab0e881f4c",
   "metadata": {},
   "source": [
    "<h1> 1. Perform Exploratory Data Analysis -</h1>"
   ]
  },
  {
   "cell_type": "markdown",
   "id": "492354a8-f2c1-4445-932c-a7a656dff435",
   "metadata": {},
   "source": [
    "# a. Check the summary"
   ]
  },
  {
   "cell_type": "code",
   "execution_count": 3,
   "id": "aec73d70-8eff-43aa-8af7-0c90612c3f56",
   "metadata": {},
   "outputs": [
    {
     "name": "stdout",
     "output_type": "stream",
     "text": [
      "<class 'pandas.core.frame.DataFrame'>\n",
      "RangeIndex: 9994 entries, 0 to 9993\n",
      "Data columns (total 21 columns):\n",
      " #   Column          Non-Null Count  Dtype  \n",
      "---  ------          --------------  -----  \n",
      " 0   RowId           9994 non-null   int64  \n",
      " 1   Order ID        9994 non-null   object \n",
      " 2   Order Date      9994 non-null   object \n",
      " 3   Ship Date       9994 non-null   object \n",
      " 4   Ship Mode       9994 non-null   object \n",
      " 5   Customer ID     9994 non-null   object \n",
      " 6   Customer Name   9994 non-null   object \n",
      " 7   Segment         9994 non-null   object \n",
      " 8   Country/Region  9994 non-null   object \n",
      " 9   City            9994 non-null   object \n",
      " 10  State           9994 non-null   object \n",
      " 11  Postal Code     9983 non-null   float64\n",
      " 12  Region          9994 non-null   object \n",
      " 13  Product ID      9994 non-null   object \n",
      " 14  Category        9994 non-null   object \n",
      " 15  Sub-Category    9994 non-null   object \n",
      " 16  Product Name    9994 non-null   object \n",
      " 17  Sales           9994 non-null   float64\n",
      " 18  Quantity        9994 non-null   int64  \n",
      " 19  Discount        9994 non-null   float64\n",
      " 20  Profit          9994 non-null   float64\n",
      "dtypes: float64(4), int64(2), object(15)\n",
      "memory usage: 1.6+ MB\n"
     ]
    }
   ],
   "source": [
    "# we can check the summary using .info(), we use .info() because it helps us understand the structure of our dataset.\n",
    "# It shows the number of rows and columns, the data types of each column, and It also indicates if there are any missing values in the columns.\n",
    "\n",
    "df.info()"
   ]
  },
  {
   "cell_type": "markdown",
   "id": "febc7cf0-933f-40e2-a7dc-cfb6070557af",
   "metadata": {},
   "source": [
    "# b. Shape of the dataset"
   ]
  },
  {
   "cell_type": "code",
   "execution_count": 4,
   "id": "ddf42bde-973d-4292-bdcd-6e96a6241cfa",
   "metadata": {},
   "outputs": [
    {
     "name": "stdout",
     "output_type": "stream",
     "text": [
      "The Shape of the dataset : (9994, 21)\n"
     ]
    }
   ],
   "source": [
    "# shape is used to check the size of the dataset and it returns the size as a tuple format\n",
    "\n",
    "data=df.shape\n",
    "print(f\"The Shape of the dataset : {data}\")"
   ]
  },
  {
   "cell_type": "markdown",
   "id": "f3d2675a-4867-4c8f-bfb1-134e57d88e84",
   "metadata": {},
   "source": [
    "# c. Statistical summary"
   ]
  },
  {
   "cell_type": "code",
   "execution_count": 5,
   "id": "3216b499-fe73-486f-8916-58dd2fee7faf",
   "metadata": {},
   "outputs": [
    {
     "data": {
      "text/html": [
       "<div>\n",
       "<style scoped>\n",
       "    .dataframe tbody tr th:only-of-type {\n",
       "        vertical-align: middle;\n",
       "    }\n",
       "\n",
       "    .dataframe tbody tr th {\n",
       "        vertical-align: top;\n",
       "    }\n",
       "\n",
       "    .dataframe thead th {\n",
       "        text-align: right;\n",
       "    }\n",
       "</style>\n",
       "<table border=\"1\" class=\"dataframe\">\n",
       "  <thead>\n",
       "    <tr style=\"text-align: right;\">\n",
       "      <th></th>\n",
       "      <th>RowId</th>\n",
       "      <th>Postal Code</th>\n",
       "      <th>Sales</th>\n",
       "      <th>Quantity</th>\n",
       "      <th>Discount</th>\n",
       "      <th>Profit</th>\n",
       "    </tr>\n",
       "  </thead>\n",
       "  <tbody>\n",
       "    <tr>\n",
       "      <th>count</th>\n",
       "      <td>9994.000000</td>\n",
       "      <td>9983.000000</td>\n",
       "      <td>9994.000000</td>\n",
       "      <td>9994.000000</td>\n",
       "      <td>9994.000000</td>\n",
       "      <td>9994.000000</td>\n",
       "    </tr>\n",
       "    <tr>\n",
       "      <th>mean</th>\n",
       "      <td>4997.500000</td>\n",
       "      <td>55245.233297</td>\n",
       "      <td>229.858001</td>\n",
       "      <td>3.789574</td>\n",
       "      <td>0.156203</td>\n",
       "      <td>28.656896</td>\n",
       "    </tr>\n",
       "    <tr>\n",
       "      <th>std</th>\n",
       "      <td>2885.163629</td>\n",
       "      <td>32038.715955</td>\n",
       "      <td>623.245101</td>\n",
       "      <td>2.225110</td>\n",
       "      <td>0.206452</td>\n",
       "      <td>234.260108</td>\n",
       "    </tr>\n",
       "    <tr>\n",
       "      <th>min</th>\n",
       "      <td>1.000000</td>\n",
       "      <td>1040.000000</td>\n",
       "      <td>0.444000</td>\n",
       "      <td>1.000000</td>\n",
       "      <td>0.000000</td>\n",
       "      <td>-6599.978000</td>\n",
       "    </tr>\n",
       "    <tr>\n",
       "      <th>25%</th>\n",
       "      <td>2499.250000</td>\n",
       "      <td>23223.000000</td>\n",
       "      <td>17.280000</td>\n",
       "      <td>2.000000</td>\n",
       "      <td>0.000000</td>\n",
       "      <td>1.728750</td>\n",
       "    </tr>\n",
       "    <tr>\n",
       "      <th>50%</th>\n",
       "      <td>4997.500000</td>\n",
       "      <td>57103.000000</td>\n",
       "      <td>54.490000</td>\n",
       "      <td>3.000000</td>\n",
       "      <td>0.200000</td>\n",
       "      <td>8.666500</td>\n",
       "    </tr>\n",
       "    <tr>\n",
       "      <th>75%</th>\n",
       "      <td>7495.750000</td>\n",
       "      <td>90008.000000</td>\n",
       "      <td>209.940000</td>\n",
       "      <td>5.000000</td>\n",
       "      <td>0.200000</td>\n",
       "      <td>29.364000</td>\n",
       "    </tr>\n",
       "    <tr>\n",
       "      <th>max</th>\n",
       "      <td>9994.000000</td>\n",
       "      <td>99301.000000</td>\n",
       "      <td>22638.480000</td>\n",
       "      <td>14.000000</td>\n",
       "      <td>0.800000</td>\n",
       "      <td>8399.976000</td>\n",
       "    </tr>\n",
       "  </tbody>\n",
       "</table>\n",
       "</div>"
      ],
      "text/plain": [
       "             RowId   Postal Code         Sales     Quantity     Discount  \\\n",
       "count  9994.000000   9983.000000   9994.000000  9994.000000  9994.000000   \n",
       "mean   4997.500000  55245.233297    229.858001     3.789574     0.156203   \n",
       "std    2885.163629  32038.715955    623.245101     2.225110     0.206452   \n",
       "min       1.000000   1040.000000      0.444000     1.000000     0.000000   \n",
       "25%    2499.250000  23223.000000     17.280000     2.000000     0.000000   \n",
       "50%    4997.500000  57103.000000     54.490000     3.000000     0.200000   \n",
       "75%    7495.750000  90008.000000    209.940000     5.000000     0.200000   \n",
       "max    9994.000000  99301.000000  22638.480000    14.000000     0.800000   \n",
       "\n",
       "            Profit  \n",
       "count  9994.000000  \n",
       "mean     28.656896  \n",
       "std     234.260108  \n",
       "min   -6599.978000  \n",
       "25%       1.728750  \n",
       "50%       8.666500  \n",
       "75%      29.364000  \n",
       "max    8399.976000  "
      ]
     },
     "execution_count": 5,
     "metadata": {},
     "output_type": "execute_result"
    }
   ],
   "source": [
    "# describe shows statistical summary\n",
    "\n",
    "df.describe()"
   ]
  },
  {
   "cell_type": "markdown",
   "id": "31be8166-47d3-41df-92cd-44d00d6b3094",
   "metadata": {},
   "source": [
    "# d. Display all numerical and categorical columns"
   ]
  },
  {
   "cell_type": "code",
   "execution_count": 6,
   "id": "833870bc-2cfd-4c23-9aa9-f5fbeb597f3a",
   "metadata": {},
   "outputs": [
    {
     "data": {
      "text/plain": [
       "Index(['RowId', 'Postal Code', 'Sales', 'Quantity', 'Discount', 'Profit'], dtype='object')"
      ]
     },
     "execution_count": 6,
     "metadata": {},
     "output_type": "execute_result"
    }
   ],
   "source": [
    "#we get all numerical_columns using built in method \n",
    "numerical_column=df._get_numeric_data().columns\n",
    "numerical_column"
   ]
  },
  {
   "cell_type": "code",
   "execution_count": 7,
   "id": "722ef6cf-b0da-4912-a27d-0b3c4c4c9bc5",
   "metadata": {},
   "outputs": [
    {
     "data": {
      "text/plain": [
       "Index(['Order ID', 'Order Date', 'Ship Date', 'Ship Mode', 'Customer ID',\n",
       "       'Customer Name', 'Segment', 'Country/Region', 'City', 'State', 'Region',\n",
       "       'Product ID', 'Category', 'Sub-Category', 'Product Name'],\n",
       "      dtype='object')"
      ]
     },
     "execution_count": 7,
     "metadata": {},
     "output_type": "execute_result"
    }
   ],
   "source": [
    "# we get all categorical columns using select_dtypes method\n",
    "categorical_column= df.select_dtypes(include=['object', 'category']).columns\n",
    "categorical_column"
   ]
  },
  {
   "cell_type": "markdown",
   "id": "dcb3d326-85e1-4f2f-acf6-3ab24c666e1b",
   "metadata": {},
   "source": [
    "# e. Check for missing values"
   ]
  },
  {
   "cell_type": "code",
   "execution_count": 110,
   "id": "d725cd5f-dba8-4de2-91c9-4ca47159d934",
   "metadata": {},
   "outputs": [
    {
     "data": {
      "text/plain": [
       "RowId              0\n",
       "Order ID           0\n",
       "Order Date         0\n",
       "Ship Date          0\n",
       "Ship Mode          0\n",
       "Customer ID        0\n",
       "Customer Name      0\n",
       "Segment            0\n",
       "Country/Region     0\n",
       "City               0\n",
       "State              0\n",
       "Postal Code       11\n",
       "Region             0\n",
       "Product ID         0\n",
       "Category           0\n",
       "Sub-Category       0\n",
       "Product Name       0\n",
       "Sales              0\n",
       "Quantity           0\n",
       "Discount           0\n",
       "Profit             0\n",
       "dtype: int64"
      ]
     },
     "execution_count": 110,
     "metadata": {},
     "output_type": "execute_result"
    }
   ],
   "source": [
    "# df.isna().sum() method is used to count the number of missing values  in each column of the dataset\n",
    "df.isna().sum()"
   ]
  },
  {
   "cell_type": "markdown",
   "id": "2be6b337-10ef-48f0-9956-b4f6741d9e70",
   "metadata": {},
   "source": [
    "# 2. Solve - \n",
    "\n",
    "## a. What are the top 5 most frequently ordered products?"
   ]
  },
  {
   "cell_type": "code",
   "execution_count": 10,
   "id": "f5a8d7c5-148a-41ac-81ec-55ceca87883c",
   "metadata": {},
   "outputs": [],
   "source": [
    "data=df['Product Name'].value_counts().index[:5]"
   ]
  },
  {
   "cell_type": "code",
   "execution_count": 11,
   "id": "9c507002-f399-4a90-acfa-93ffe120b488",
   "metadata": {},
   "outputs": [
    {
     "data": {
      "text/plain": [
       "Index(['Staple envelope', 'Easy-staple paper', 'Staples',\n",
       "       'Avery Non-Stick Binders', 'Staples in misc. colors'],\n",
       "      dtype='object', name='Product Name')"
      ]
     },
     "execution_count": 11,
     "metadata": {},
     "output_type": "execute_result"
    }
   ],
   "source": [
    "data"
   ]
  },
  {
   "cell_type": "code",
   "execution_count": 12,
   "id": "6db033f9-eb95-4eac-9ddb-aeb3a7fa5bae",
   "metadata": {},
   "outputs": [],
   "source": [
    "data_counts=[48, 46, 46, 20, 19]"
   ]
  },
  {
   "cell_type": "code",
   "execution_count": 13,
   "id": "c4103331-63c6-4ce1-a0a9-cefff4383756",
   "metadata": {},
   "outputs": [
    {
     "data": {
      "image/png": "[encoded data removed]",
      "text/plain": [
       "<Figure size 500x300 with 1 Axes>"
      ]
     },
     "metadata": {},
     "output_type": "display_data"
    }
   ],
   "source": [
    "plt.figure(figsize=(5,3))\n",
    "sns.barplot(x=data,y=data_counts)\n",
    "plt.xlabel('Product Name')\n",
    "plt.ylabel('Number of Orders')\n",
    "plt.title('top 5 most frequently ordered products')\n",
    "plt.xticks(rotation=90)\n",
    "\n",
    "plt.show()"
   ]
  },
  {
   "cell_type": "markdown",
   "id": "cb05e6a5-2556-4c75-871f-63859bbb4c80",
   "metadata": {},
   "source": [
    "# b. How many unique customers are there, and which customer has placed the most orders?"
   ]
  },
  {
   "cell_type": "code",
   "execution_count": 14,
   "id": "b6ee8340-4811-4b45-ad78-9731251ce223",
   "metadata": {},
   "outputs": [
    {
     "name": "stdout",
     "output_type": "stream",
     "text": [
      "793 unique customers are there\n"
     ]
    }
   ],
   "source": [
    "data_1=df['Customer Name'].nunique()\n",
    "print(f\"{data_1} unique customers are there\")"
   ]
  },
  {
   "cell_type": "code",
   "execution_count": 15,
   "id": "1e49fe9b-c84b-454d-b67f-a9cd3b12ca7a",
   "metadata": {},
   "outputs": [
    {
     "name": "stdout",
     "output_type": "stream",
     "text": [
      "Index(['William Brown'], dtype='object', name='Customer Name') has placed the most orders \n"
     ]
    }
   ],
   "source": [
    "data_2=df['Customer Name'].value_counts().index[:1]\n",
    "print(f\"{data_2} has placed the most orders \")"
   ]
  },
  {
   "cell_type": "markdown",
   "id": "0eafa1a5-034a-4bb2-bb61-fa28857fd7c0",
   "metadata": {},
   "source": [
    "# c. How do monthly or yearly sales trends look over time?"
   ]
  },
  {
   "cell_type": "code",
   "execution_count": 16,
   "id": "1fe350d7-46c6-4943-b9cf-782454817fa9",
   "metadata": {},
   "outputs": [],
   "source": [
    "df['Order Date']=pd.to_datetime(df['Order Date'])"
   ]
  },
  {
   "cell_type": "code",
   "execution_count": 17,
   "id": "28621427-c6ee-46d0-bdc0-49a58553976d",
   "metadata": {},
   "outputs": [
    {
     "data": {
      "text/html": [
       "<div>\n",
       "<style scoped>\n",
       "    .dataframe tbody tr th:only-of-type {\n",
       "        vertical-align: middle;\n",
       "    }\n",
       "\n",
       "    .dataframe tbody tr th {\n",
       "        vertical-align: top;\n",
       "    }\n",
       "\n",
       "    .dataframe thead th {\n",
       "        text-align: right;\n",
       "    }\n",
       "</style>\n",
       "<table border=\"1\" class=\"dataframe\">\n",
       "  <thead>\n",
       "    <tr style=\"text-align: right;\">\n",
       "      <th></th>\n",
       "      <th>RowId</th>\n",
       "      <th>Order ID</th>\n",
       "      <th>Order Date</th>\n",
       "      <th>Ship Date</th>\n",
       "      <th>Ship Mode</th>\n",
       "      <th>Customer ID</th>\n",
       "      <th>Customer Name</th>\n",
       "      <th>Segment</th>\n",
       "      <th>Country/Region</th>\n",
       "      <th>City</th>\n",
       "      <th>...</th>\n",
       "      <th>Region</th>\n",
       "      <th>Product ID</th>\n",
       "      <th>Category</th>\n",
       "      <th>Sub-Category</th>\n",
       "      <th>Product Name</th>\n",
       "      <th>Sales</th>\n",
       "      <th>Quantity</th>\n",
       "      <th>Discount</th>\n",
       "      <th>Profit</th>\n",
       "      <th>month</th>\n",
       "    </tr>\n",
       "  </thead>\n",
       "  <tbody>\n",
       "    <tr>\n",
       "      <th>0</th>\n",
       "      <td>1</td>\n",
       "      <td>CA-2021-152156</td>\n",
       "      <td>2021-11-08</td>\n",
       "      <td>11/11/2021</td>\n",
       "      <td>Second Class</td>\n",
       "      <td>CG-12520</td>\n",
       "      <td>Claire Gute</td>\n",
       "      <td>Consumer</td>\n",
       "      <td>United States</td>\n",
       "      <td>Henderson</td>\n",
       "      <td>...</td>\n",
       "      <td>South</td>\n",
       "      <td>FUR-BO-10001798</td>\n",
       "      <td>Furniture</td>\n",
       "      <td>Bookcases</td>\n",
       "      <td>Bush Somerset Collection Bookcase</td>\n",
       "      <td>261.96</td>\n",
       "      <td>2</td>\n",
       "      <td>0.0</td>\n",
       "      <td>41.9136</td>\n",
       "      <td>11</td>\n",
       "    </tr>\n",
       "    <tr>\n",
       "      <th>1</th>\n",
       "      <td>2</td>\n",
       "      <td>CA-2021-152156</td>\n",
       "      <td>2021-11-08</td>\n",
       "      <td>11/11/2021</td>\n",
       "      <td>Second Class</td>\n",
       "      <td>CG-12520</td>\n",
       "      <td>Claire Gute</td>\n",
       "      <td>Consumer</td>\n",
       "      <td>United States</td>\n",
       "      <td>Henderson</td>\n",
       "      <td>...</td>\n",
       "      <td>South</td>\n",
       "      <td>FUR-CH-10000454</td>\n",
       "      <td>Furniture</td>\n",
       "      <td>Chairs</td>\n",
       "      <td>Hon Deluxe Fabric Upholstered Stacking Chairs,...</td>\n",
       "      <td>731.94</td>\n",
       "      <td>3</td>\n",
       "      <td>0.0</td>\n",
       "      <td>219.5820</td>\n",
       "      <td>11</td>\n",
       "    </tr>\n",
       "  </tbody>\n",
       "</table>\n",
       "<p>2 rows × 22 columns</p>\n",
       "</div>"
      ],
      "text/plain": [
       "   RowId        Order ID Order Date   Ship Date     Ship Mode Customer ID  \\\n",
       "0      1  CA-2021-152156 2021-11-08  11/11/2021  Second Class    CG-12520   \n",
       "1      2  CA-2021-152156 2021-11-08  11/11/2021  Second Class    CG-12520   \n",
       "\n",
       "  Customer Name   Segment Country/Region       City  ... Region  \\\n",
       "0   Claire Gute  Consumer  United States  Henderson  ...  South   \n",
       "1   Claire Gute  Consumer  United States  Henderson  ...  South   \n",
       "\n",
       "        Product ID   Category Sub-Category  \\\n",
       "0  FUR-BO-10001798  Furniture    Bookcases   \n",
       "1  FUR-CH-10000454  Furniture       Chairs   \n",
       "\n",
       "                                        Product Name   Sales Quantity  \\\n",
       "0                  Bush Somerset Collection Bookcase  261.96        2   \n",
       "1  Hon Deluxe Fabric Upholstered Stacking Chairs,...  731.94        3   \n",
       "\n",
       "   Discount    Profit  month  \n",
       "0       0.0   41.9136     11  \n",
       "1       0.0  219.5820     11  \n",
       "\n",
       "[2 rows x 22 columns]"
      ]
     },
     "execution_count": 17,
     "metadata": {},
     "output_type": "execute_result"
    }
   ],
   "source": [
    "df['month'] = df['Order Date'].dt.month\n",
    "df.head(2)"
   ]
  },
  {
   "cell_type": "code",
   "execution_count": 18,
   "id": "e14b6c01-4d42-401f-a336-638c7ac4ca8e",
   "metadata": {},
   "outputs": [
    {
     "data": {
      "text/html": [
       "<div>\n",
       "<style scoped>\n",
       "    .dataframe tbody tr th:only-of-type {\n",
       "        vertical-align: middle;\n",
       "    }\n",
       "\n",
       "    .dataframe tbody tr th {\n",
       "        vertical-align: top;\n",
       "    }\n",
       "\n",
       "    .dataframe thead th {\n",
       "        text-align: right;\n",
       "    }\n",
       "</style>\n",
       "<table border=\"1\" class=\"dataframe\">\n",
       "  <thead>\n",
       "    <tr style=\"text-align: right;\">\n",
       "      <th></th>\n",
       "      <th>RowId</th>\n",
       "      <th>Order ID</th>\n",
       "      <th>Order Date</th>\n",
       "      <th>Ship Date</th>\n",
       "      <th>Ship Mode</th>\n",
       "      <th>Customer ID</th>\n",
       "      <th>Customer Name</th>\n",
       "      <th>Segment</th>\n",
       "      <th>Country/Region</th>\n",
       "      <th>City</th>\n",
       "      <th>...</th>\n",
       "      <th>Product ID</th>\n",
       "      <th>Category</th>\n",
       "      <th>Sub-Category</th>\n",
       "      <th>Product Name</th>\n",
       "      <th>Sales</th>\n",
       "      <th>Quantity</th>\n",
       "      <th>Discount</th>\n",
       "      <th>Profit</th>\n",
       "      <th>month</th>\n",
       "      <th>year</th>\n",
       "    </tr>\n",
       "  </thead>\n",
       "  <tbody>\n",
       "    <tr>\n",
       "      <th>0</th>\n",
       "      <td>1</td>\n",
       "      <td>CA-2021-152156</td>\n",
       "      <td>2021-11-08</td>\n",
       "      <td>11/11/2021</td>\n",
       "      <td>Second Class</td>\n",
       "      <td>CG-12520</td>\n",
       "      <td>Claire Gute</td>\n",
       "      <td>Consumer</td>\n",
       "      <td>United States</td>\n",
       "      <td>Henderson</td>\n",
       "      <td>...</td>\n",
       "      <td>FUR-BO-10001798</td>\n",
       "      <td>Furniture</td>\n",
       "      <td>Bookcases</td>\n",
       "      <td>Bush Somerset Collection Bookcase</td>\n",
       "      <td>261.96</td>\n",
       "      <td>2</td>\n",
       "      <td>0.0</td>\n",
       "      <td>41.9136</td>\n",
       "      <td>11</td>\n",
       "      <td>2021</td>\n",
       "    </tr>\n",
       "    <tr>\n",
       "      <th>1</th>\n",
       "      <td>2</td>\n",
       "      <td>CA-2021-152156</td>\n",
       "      <td>2021-11-08</td>\n",
       "      <td>11/11/2021</td>\n",
       "      <td>Second Class</td>\n",
       "      <td>CG-12520</td>\n",
       "      <td>Claire Gute</td>\n",
       "      <td>Consumer</td>\n",
       "      <td>United States</td>\n",
       "      <td>Henderson</td>\n",
       "      <td>...</td>\n",
       "      <td>FUR-CH-10000454</td>\n",
       "      <td>Furniture</td>\n",
       "      <td>Chairs</td>\n",
       "      <td>Hon Deluxe Fabric Upholstered Stacking Chairs,...</td>\n",
       "      <td>731.94</td>\n",
       "      <td>3</td>\n",
       "      <td>0.0</td>\n",
       "      <td>219.5820</td>\n",
       "      <td>11</td>\n",
       "      <td>2021</td>\n",
       "    </tr>\n",
       "  </tbody>\n",
       "</table>\n",
       "<p>2 rows × 23 columns</p>\n",
       "</div>"
      ],
      "text/plain": [
       "   RowId        Order ID Order Date   Ship Date     Ship Mode Customer ID  \\\n",
       "0      1  CA-2021-152156 2021-11-08  11/11/2021  Second Class    CG-12520   \n",
       "1      2  CA-2021-152156 2021-11-08  11/11/2021  Second Class    CG-12520   \n",
       "\n",
       "  Customer Name   Segment Country/Region       City  ...       Product ID  \\\n",
       "0   Claire Gute  Consumer  United States  Henderson  ...  FUR-BO-10001798   \n",
       "1   Claire Gute  Consumer  United States  Henderson  ...  FUR-CH-10000454   \n",
       "\n",
       "    Category Sub-Category                                       Product Name  \\\n",
       "0  Furniture    Bookcases                  Bush Somerset Collection Bookcase   \n",
       "1  Furniture       Chairs  Hon Deluxe Fabric Upholstered Stacking Chairs,...   \n",
       "\n",
       "    Sales Quantity Discount    Profit  month  year  \n",
       "0  261.96        2      0.0   41.9136     11  2021  \n",
       "1  731.94        3      0.0  219.5820     11  2021  \n",
       "\n",
       "[2 rows x 23 columns]"
      ]
     },
     "execution_count": 18,
     "metadata": {},
     "output_type": "execute_result"
    }
   ],
   "source": [
    "df['year']=df['Order Date'].dt.year\n",
    "df.head(2)"
   ]
  },
  {
   "cell_type": "code",
   "execution_count": 19,
   "id": "8e041592-926a-4ce8-93d8-63f8d5797b76",
   "metadata": {},
   "outputs": [
    {
     "data": {
      "text/plain": [
       "month\n",
       "1      94924.8356\n",
       "2      59751.2514\n",
       "3     205005.4888\n",
       "4     137762.1286\n",
       "5     155028.8117\n",
       "6     152718.6793\n",
       "7     147238.0970\n",
       "8     159044.0630\n",
       "9     307649.9457\n",
       "10    200322.9847\n",
       "11    352461.0710\n",
       "12    325293.5035\n",
       "Name: Sales, dtype: float64"
      ]
     },
     "execution_count": 19,
     "metadata": {},
     "output_type": "execute_result"
    }
   ],
   "source": [
    "Month_Sales=df.groupby('month')['Sales'].sum()\n",
    "Month_Sales"
   ]
  },
  {
   "cell_type": "code",
   "execution_count": 20,
   "id": "e5966249-6acb-492f-a190-366522bc12e5",
   "metadata": {},
   "outputs": [
    {
     "data": {
      "image/png": "[encoded data removed]",
      "text/plain": [
       "<Figure size 600x400 with 1 Axes>"
      ]
     },
     "metadata": {},
     "output_type": "display_data"
    }
   ],
   "source": [
    "plt.figure(figsize=(6, 4))\n",
    "sns.lineplot(x=Month_Sales.index, y=Month_Sales.values, marker='o', color='pink')\n",
    "plt.xlabel('Month')\n",
    "plt.ylabel('Total Sales')\n",
    "plt.title('Monthly Sales trends look over time')\n",
    "plt.grid()\n",
    "plt.show()\n"
   ]
  },
  {
   "cell_type": "code",
   "execution_count": 21,
   "id": "6837be12-ea98-45ca-88c8-afd4c9927214",
   "metadata": {},
   "outputs": [
    {
     "data": {
      "text/plain": [
       "year\n",
       "2019    484247.4981\n",
       "2020    470532.5090\n",
       "2021    609205.5980\n",
       "2022    733215.2552\n",
       "Name: Sales, dtype: float64"
      ]
     },
     "execution_count": 21,
     "metadata": {},
     "output_type": "execute_result"
    }
   ],
   "source": [
    "year_sales=df.groupby('year')['Sales'].sum()\n",
    "year_sales"
   ]
  },
  {
   "cell_type": "code",
   "execution_count": 22,
   "id": "bb3624fb-04a2-4152-8ff6-5cf9ab33a7ee",
   "metadata": {},
   "outputs": [
    {
     "data": {
      "image/png": "[encoded data removed]",
      "text/plain": [
       "<Figure size 600x400 with 1 Axes>"
      ]
     },
     "metadata": {},
     "output_type": "display_data"
    }
   ],
   "source": [
    "plt.figure(figsize=(6, 4))\n",
    "sns.lineplot(x=year_sales.index, y=year_sales.values, marker='o', color='pink')\n",
    "plt.xlabel('Year')\n",
    "plt.ylabel('Total Sales')\n",
    "plt.title('Yearly Sales trends look over time')\n",
    "plt.grid()\n",
    "plt.show()"
   ]
  },
  {
   "cell_type": "markdown",
   "id": "c0b333bc-069a-4179-8c85-2d0af7bd2cb1",
   "metadata": {},
   "source": [
    "# d. What are the peak and low sales months for each year?"
   ]
  },
  {
   "cell_type": "code",
   "execution_count": 23,
   "id": "583db42c-c4b9-4a99-b1c7-520e53ecc890",
   "metadata": {},
   "outputs": [
    {
     "data": {
      "text/plain": [
       "year  month\n",
       "2019  1         14236.8950\n",
       "      2          4519.8920\n",
       "      3         55691.0090\n",
       "      4         28295.3450\n",
       "      5         23648.2870\n",
       "      6         34595.1276\n",
       "      7         33946.3930\n",
       "      8         27909.4685\n",
       "      9         81777.3508\n",
       "      10        31453.3930\n",
       "      11        78628.7167\n",
       "      12        69545.6205\n",
       "2020  1         18174.0756\n",
       "      2         11951.4110\n",
       "      3         38726.2520\n",
       "      4         34195.2085\n",
       "      5         30131.6865\n",
       "      6         24797.2920\n",
       "      7         28765.3250\n",
       "      8         36898.3322\n",
       "      9         64595.9180\n",
       "      10        31404.9235\n",
       "      11        75972.5635\n",
       "      12        74919.5212\n",
       "2021  1         18542.4910\n",
       "      2         22978.8150\n",
       "      3         51715.8750\n",
       "      4         38750.0390\n",
       "      5         56987.7280\n",
       "      6         40344.5340\n",
       "      7         39261.9630\n",
       "      8         31115.3743\n",
       "      9         73410.0249\n",
       "      10        59687.7450\n",
       "      11        79411.9658\n",
       "      12        96999.0430\n",
       "2022  1         43971.3740\n",
       "      2         20301.1334\n",
       "      3         58872.3528\n",
       "      4         36521.5361\n",
       "      5         44261.1102\n",
       "      6         52981.7257\n",
       "      7         45264.4160\n",
       "      8         63120.8880\n",
       "      9         87866.6520\n",
       "      10        77776.9232\n",
       "      11       118447.8250\n",
       "      12        83829.3188\n",
       "Name: Sales, dtype: float64"
      ]
     },
     "execution_count": 23,
     "metadata": {},
     "output_type": "execute_result"
    }
   ],
   "source": [
    "Sales=df.groupby(['year','month'])['Sales'].sum()\n",
    "Sales"
   ]
  },
  {
   "cell_type": "code",
   "execution_count": 24,
   "id": "3e47492c-55f4-421d-8f82-52d1aef8ba52",
   "metadata": {},
   "outputs": [
    {
     "data": {
      "text/plain": [
       "year\n",
       "2019     (2019, 9)\n",
       "2020    (2020, 11)\n",
       "2021    (2021, 12)\n",
       "2022    (2022, 11)\n",
       "Name: Sales, dtype: object"
      ]
     },
     "execution_count": 24,
     "metadata": {},
     "output_type": "execute_result"
    }
   ],
   "source": [
    "peak_sales=Sales.groupby('year').idxmax()\n",
    "peak_sales"
   ]
  },
  {
   "cell_type": "code",
   "execution_count": 25,
   "id": "14ce3efe-91fa-4606-82a1-d9beaa97f8bc",
   "metadata": {},
   "outputs": [
    {
     "data": {
      "text/plain": [
       "year\n",
       "2019    (2019, 2)\n",
       "2020    (2020, 2)\n",
       "2021    (2021, 1)\n",
       "2022    (2022, 2)\n",
       "Name: Sales, dtype: object"
      ]
     },
     "execution_count": 25,
     "metadata": {},
     "output_type": "execute_result"
    }
   ],
   "source": [
    "low_sales=Sales.groupby('year').idxmin()\n",
    "low_sales"
   ]
  },
  {
   "cell_type": "markdown",
   "id": "4f2bb918-4080-44d0-88ec-cc22786d6499",
   "metadata": {},
   "source": [
    "# 3. Category-Based Analysis -"
   ]
  },
  {
   "cell_type": "markdown",
   "id": "63d94b45-76b8-4e10-98b8-c10d88ca85ca",
   "metadata": {},
   "source": [
    " # a. What are the top-selling categories and sub-categories?"
   ]
  },
  {
   "cell_type": "code",
   "execution_count": 94,
   "id": "ecc3332b-3882-4fac-8850-56a47834fd28",
   "metadata": {},
   "outputs": [
    {
     "data": {
      "text/html": [
       "<div>\n",
       "<style scoped>\n",
       "    .dataframe tbody tr th:only-of-type {\n",
       "        vertical-align: middle;\n",
       "    }\n",
       "\n",
       "    .dataframe tbody tr th {\n",
       "        vertical-align: top;\n",
       "    }\n",
       "\n",
       "    .dataframe thead th {\n",
       "        text-align: right;\n",
       "    }\n",
       "</style>\n",
       "<table border=\"1\" class=\"dataframe\">\n",
       "  <thead>\n",
       "    <tr style=\"text-align: right;\">\n",
       "      <th></th>\n",
       "      <th>Category</th>\n",
       "      <th>Sales</th>\n",
       "    </tr>\n",
       "  </thead>\n",
       "  <tbody>\n",
       "    <tr>\n",
       "      <th>0</th>\n",
       "      <td>Technology</td>\n",
       "      <td>836154.0330</td>\n",
       "    </tr>\n",
       "    <tr>\n",
       "      <th>1</th>\n",
       "      <td>Furniture</td>\n",
       "      <td>741999.7953</td>\n",
       "    </tr>\n",
       "    <tr>\n",
       "      <th>2</th>\n",
       "      <td>Office Supplies</td>\n",
       "      <td>719047.0320</td>\n",
       "    </tr>\n",
       "  </tbody>\n",
       "</table>\n",
       "</div>"
      ],
      "text/plain": [
       "          Category        Sales\n",
       "0       Technology  836154.0330\n",
       "1        Furniture  741999.7953\n",
       "2  Office Supplies  719047.0320"
      ]
     },
     "execution_count": 94,
     "metadata": {},
     "output_type": "execute_result"
    }
   ],
   "source": [
    "category=df.groupby(['Category'])['Sales'].sum().sort_values(ascending=False).reset_index()\n",
    "category"
   ]
  },
  {
   "cell_type": "code",
   "execution_count": 95,
   "id": "2f6e3571-4c33-4768-b013-8bd63e068b15",
   "metadata": {},
   "outputs": [
    {
     "data": {
      "text/html": [
       "<div>\n",
       "<style scoped>\n",
       "    .dataframe tbody tr th:only-of-type {\n",
       "        vertical-align: middle;\n",
       "    }\n",
       "\n",
       "    .dataframe tbody tr th {\n",
       "        vertical-align: top;\n",
       "    }\n",
       "\n",
       "    .dataframe thead th {\n",
       "        text-align: right;\n",
       "    }\n",
       "</style>\n",
       "<table border=\"1\" class=\"dataframe\">\n",
       "  <thead>\n",
       "    <tr style=\"text-align: right;\">\n",
       "      <th></th>\n",
       "      <th>Sub-Category</th>\n",
       "      <th>Sales</th>\n",
       "    </tr>\n",
       "  </thead>\n",
       "  <tbody>\n",
       "    <tr>\n",
       "      <th>0</th>\n",
       "      <td>Phones</td>\n",
       "      <td>330007.0540</td>\n",
       "    </tr>\n",
       "    <tr>\n",
       "      <th>1</th>\n",
       "      <td>Chairs</td>\n",
       "      <td>328449.1030</td>\n",
       "    </tr>\n",
       "    <tr>\n",
       "      <th>2</th>\n",
       "      <td>Storage</td>\n",
       "      <td>223843.6080</td>\n",
       "    </tr>\n",
       "    <tr>\n",
       "      <th>3</th>\n",
       "      <td>Tables</td>\n",
       "      <td>206965.5320</td>\n",
       "    </tr>\n",
       "    <tr>\n",
       "      <th>4</th>\n",
       "      <td>Binders</td>\n",
       "      <td>203412.7330</td>\n",
       "    </tr>\n",
       "    <tr>\n",
       "      <th>5</th>\n",
       "      <td>Machines</td>\n",
       "      <td>189238.6310</td>\n",
       "    </tr>\n",
       "    <tr>\n",
       "      <th>6</th>\n",
       "      <td>Accessories</td>\n",
       "      <td>167380.3180</td>\n",
       "    </tr>\n",
       "    <tr>\n",
       "      <th>7</th>\n",
       "      <td>Copiers</td>\n",
       "      <td>149528.0300</td>\n",
       "    </tr>\n",
       "    <tr>\n",
       "      <th>8</th>\n",
       "      <td>Bookcases</td>\n",
       "      <td>114879.9963</td>\n",
       "    </tr>\n",
       "    <tr>\n",
       "      <th>9</th>\n",
       "      <td>Appliances</td>\n",
       "      <td>107532.1610</td>\n",
       "    </tr>\n",
       "    <tr>\n",
       "      <th>10</th>\n",
       "      <td>Furnishings</td>\n",
       "      <td>91705.1640</td>\n",
       "    </tr>\n",
       "    <tr>\n",
       "      <th>11</th>\n",
       "      <td>Paper</td>\n",
       "      <td>78479.2060</td>\n",
       "    </tr>\n",
       "    <tr>\n",
       "      <th>12</th>\n",
       "      <td>Supplies</td>\n",
       "      <td>46673.5380</td>\n",
       "    </tr>\n",
       "    <tr>\n",
       "      <th>13</th>\n",
       "      <td>Art</td>\n",
       "      <td>27118.7920</td>\n",
       "    </tr>\n",
       "    <tr>\n",
       "      <th>14</th>\n",
       "      <td>Envelopes</td>\n",
       "      <td>16476.4020</td>\n",
       "    </tr>\n",
       "    <tr>\n",
       "      <th>15</th>\n",
       "      <td>Labels</td>\n",
       "      <td>12486.3120</td>\n",
       "    </tr>\n",
       "    <tr>\n",
       "      <th>16</th>\n",
       "      <td>Fasteners</td>\n",
       "      <td>3024.2800</td>\n",
       "    </tr>\n",
       "  </tbody>\n",
       "</table>\n",
       "</div>"
      ],
      "text/plain": [
       "   Sub-Category        Sales\n",
       "0        Phones  330007.0540\n",
       "1        Chairs  328449.1030\n",
       "2       Storage  223843.6080\n",
       "3        Tables  206965.5320\n",
       "4       Binders  203412.7330\n",
       "5      Machines  189238.6310\n",
       "6   Accessories  167380.3180\n",
       "7       Copiers  149528.0300\n",
       "8     Bookcases  114879.9963\n",
       "9    Appliances  107532.1610\n",
       "10  Furnishings   91705.1640\n",
       "11        Paper   78479.2060\n",
       "12     Supplies   46673.5380\n",
       "13          Art   27118.7920\n",
       "14    Envelopes   16476.4020\n",
       "15       Labels   12486.3120\n",
       "16    Fasteners    3024.2800"
      ]
     },
     "execution_count": 95,
     "metadata": {},
     "output_type": "execute_result"
    }
   ],
   "source": [
    "Subcategory=df.groupby(['Sub-Category'])['Sales'].sum().sort_values(ascending=False).reset_index()\n",
    "Subcategory"
   ]
  },
  {
   "cell_type": "code",
   "execution_count": 106,
   "id": "fb4b386d-c9f1-4707-9c74-5b9688880a13",
   "metadata": {},
   "outputs": [
    {
     "name": "stdout",
     "output_type": "stream",
     "text": [
      " Top-selling categories and sub-categories : idxmax    (Technology, Phones)\n",
      "Name: Sales, dtype: object\n"
     ]
    }
   ],
   "source": [
    "top_selling=df.groupby(['Category','Sub-Category'])['Sales'].sum().aggregate(['idxmax'])\n",
    "print(f\" Top-selling categories and sub-categories : {top_selling}\")"
   ]
  },
  {
   "cell_type": "markdown",
   "id": "8ace71dc-ad49-4983-936f-d9a6c1773cf6",
   "metadata": {},
   "source": [
    "# b. How does the average order quantity vary across different categories?"
   ]
  },
  {
   "cell_type": "code",
   "execution_count": 101,
   "id": "ad53d17a-88b8-480a-9122-7cf4353ce3e5",
   "metadata": {},
   "outputs": [],
   "source": [
    "average=df.groupby('Category')['Quantity'].mean().reset_index()"
   ]
  },
  {
   "cell_type": "code",
   "execution_count": 102,
   "id": "7b50874e-f832-420f-baa9-9073498cd3d1",
   "metadata": {},
   "outputs": [
    {
     "data": {
      "text/html": [
       "<div>\n",
       "<style scoped>\n",
       "    .dataframe tbody tr th:only-of-type {\n",
       "        vertical-align: middle;\n",
       "    }\n",
       "\n",
       "    .dataframe tbody tr th {\n",
       "        vertical-align: top;\n",
       "    }\n",
       "\n",
       "    .dataframe thead th {\n",
       "        text-align: right;\n",
       "    }\n",
       "</style>\n",
       "<table border=\"1\" class=\"dataframe\">\n",
       "  <thead>\n",
       "    <tr style=\"text-align: right;\">\n",
       "      <th></th>\n",
       "      <th>Category</th>\n",
       "      <th>Quantity</th>\n",
       "    </tr>\n",
       "  </thead>\n",
       "  <tbody>\n",
       "    <tr>\n",
       "      <th>0</th>\n",
       "      <td>Furniture</td>\n",
       "      <td>3.785007</td>\n",
       "    </tr>\n",
       "    <tr>\n",
       "      <th>1</th>\n",
       "      <td>Office Supplies</td>\n",
       "      <td>3.801195</td>\n",
       "    </tr>\n",
       "    <tr>\n",
       "      <th>2</th>\n",
       "      <td>Technology</td>\n",
       "      <td>3.756903</td>\n",
       "    </tr>\n",
       "  </tbody>\n",
       "</table>\n",
       "</div>"
      ],
      "text/plain": [
       "          Category  Quantity\n",
       "0        Furniture  3.785007\n",
       "1  Office Supplies  3.801195\n",
       "2       Technology  3.756903"
      ]
     },
     "execution_count": 102,
     "metadata": {},
     "output_type": "execute_result"
    }
   ],
   "source": [
    "average"
   ]
  },
  {
   "cell_type": "markdown",
   "id": "f3a0b734-bfa7-41a8-a0ea-3553300b216d",
   "metadata": {},
   "source": [
    "# 4. Sales Performance by Region -"
   ]
  },
  {
   "cell_type": "markdown",
   "id": "31475c86-557b-49b9-9072-9951090e21dc",
   "metadata": {},
   "source": [
    "# a. Which region has the highest sales, and how do sales compare across regions?"
   ]
  },
  {
   "cell_type": "code",
   "execution_count": 90,
   "id": "db0ca47a-4c38-4804-981f-559f98080bd8",
   "metadata": {},
   "outputs": [],
   "source": [
    "region=df.groupby('Region')['Sales'].sum().sort_values(ascending=False)"
   ]
  },
  {
   "cell_type": "code",
   "execution_count": 91,
   "id": "af3cb43c-2048-47a1-b36b-2195a4d94896",
   "metadata": {},
   "outputs": [
    {
     "data": {
      "text/plain": [
       "Region\n",
       "West       725457.8245\n",
       "East       678781.2400\n",
       "Central    501239.8908\n",
       "South      391721.9050\n",
       "Name: Sales, dtype: float64"
      ]
     },
     "execution_count": 91,
     "metadata": {},
     "output_type": "execute_result"
    }
   ],
   "source": [
    "region"
   ]
  },
  {
   "cell_type": "code",
   "execution_count": 92,
   "id": "841b1f19-c169-425c-a79d-6c05c8e010e2",
   "metadata": {},
   "outputs": [
    {
     "name": "stdout",
     "output_type": "stream",
     "text": [
      "West has the highest sales\n"
     ]
    }
   ],
   "source": [
    "print(region.idxmax(),\"has the highest sales\")"
   ]
  },
  {
   "cell_type": "code",
   "execution_count": 93,
   "id": "7c0f7972-f8f1-4c81-8b21-df5803762ef2",
   "metadata": {},
   "outputs": [
    {
     "data": {
      "image/png": "[encoded data removed]",
      "text/plain": [
       "<Figure size 640x480 with 1 Axes>"
      ]
     },
     "metadata": {},
     "output_type": "display_data"
    }
   ],
   "source": [
    "sns.barplot(x=region.index,y=region.values)\n",
    "plt.xlabel('Region')\n",
    "plt.ylabel('Total Sales')\n",
    "plt.title('sales compare across regions')\n",
    "plt.show()"
   ]
  },
  {
   "cell_type": "markdown",
   "id": "0f876c65-430c-4458-a2c2-b241f8c47818",
   "metadata": {},
   "source": [
    "# b. What is the distribution of sales across different states and cities?\n"
   ]
  },
  {
   "cell_type": "code",
   "execution_count": 69,
   "id": "1b5596a4-585e-4fe3-a3bd-41bd44920d12",
   "metadata": {},
   "outputs": [],
   "source": [
    "states=df.groupby(['State','City'])['Sales'].sum().sort_values(ascending=False).reset_index()"
   ]
  },
  {
   "cell_type": "code",
   "execution_count": 70,
   "id": "0aae6fba-ecfa-4f56-93a6-472dc975f1c7",
   "metadata": {},
   "outputs": [
    {
     "data": {
      "text/html": [
       "<div>\n",
       "<style scoped>\n",
       "    .dataframe tbody tr th:only-of-type {\n",
       "        vertical-align: middle;\n",
       "    }\n",
       "\n",
       "    .dataframe tbody tr th {\n",
       "        vertical-align: top;\n",
       "    }\n",
       "\n",
       "    .dataframe thead th {\n",
       "        text-align: right;\n",
       "    }\n",
       "</style>\n",
       "<table border=\"1\" class=\"dataframe\">\n",
       "  <thead>\n",
       "    <tr style=\"text-align: right;\">\n",
       "      <th></th>\n",
       "      <th>State</th>\n",
       "      <th>City</th>\n",
       "      <th>Sales</th>\n",
       "    </tr>\n",
       "  </thead>\n",
       "  <tbody>\n",
       "    <tr>\n",
       "      <th>0</th>\n",
       "      <td>New York</td>\n",
       "      <td>New York City</td>\n",
       "      <td>256368.161</td>\n",
       "    </tr>\n",
       "    <tr>\n",
       "      <th>1</th>\n",
       "      <td>California</td>\n",
       "      <td>Los Angeles</td>\n",
       "      <td>175851.341</td>\n",
       "    </tr>\n",
       "    <tr>\n",
       "      <th>2</th>\n",
       "      <td>Washington</td>\n",
       "      <td>Seattle</td>\n",
       "      <td>119540.742</td>\n",
       "    </tr>\n",
       "    <tr>\n",
       "      <th>3</th>\n",
       "      <td>California</td>\n",
       "      <td>San Francisco</td>\n",
       "      <td>112669.092</td>\n",
       "    </tr>\n",
       "    <tr>\n",
       "      <th>4</th>\n",
       "      <td>Pennsylvania</td>\n",
       "      <td>Philadelphia</td>\n",
       "      <td>109077.013</td>\n",
       "    </tr>\n",
       "    <tr>\n",
       "      <th>...</th>\n",
       "      <td>...</td>\n",
       "      <td>...</td>\n",
       "      <td>...</td>\n",
       "    </tr>\n",
       "    <tr>\n",
       "      <th>599</th>\n",
       "      <td>Florida</td>\n",
       "      <td>Ormond Beach</td>\n",
       "      <td>2.808</td>\n",
       "    </tr>\n",
       "    <tr>\n",
       "      <th>600</th>\n",
       "      <td>Florida</td>\n",
       "      <td>Pensacola</td>\n",
       "      <td>2.214</td>\n",
       "    </tr>\n",
       "    <tr>\n",
       "      <th>601</th>\n",
       "      <td>Florida</td>\n",
       "      <td>Jupiter</td>\n",
       "      <td>2.064</td>\n",
       "    </tr>\n",
       "    <tr>\n",
       "      <th>602</th>\n",
       "      <td>Ohio</td>\n",
       "      <td>Elyria</td>\n",
       "      <td>1.824</td>\n",
       "    </tr>\n",
       "    <tr>\n",
       "      <th>603</th>\n",
       "      <td>Texas</td>\n",
       "      <td>Abilene</td>\n",
       "      <td>1.392</td>\n",
       "    </tr>\n",
       "  </tbody>\n",
       "</table>\n",
       "<p>604 rows × 3 columns</p>\n",
       "</div>"
      ],
      "text/plain": [
       "            State           City       Sales\n",
       "0        New York  New York City  256368.161\n",
       "1      California    Los Angeles  175851.341\n",
       "2      Washington        Seattle  119540.742\n",
       "3      California  San Francisco  112669.092\n",
       "4    Pennsylvania   Philadelphia  109077.013\n",
       "..            ...            ...         ...\n",
       "599       Florida   Ormond Beach       2.808\n",
       "600       Florida      Pensacola       2.214\n",
       "601       Florida        Jupiter       2.064\n",
       "602          Ohio         Elyria       1.824\n",
       "603         Texas        Abilene       1.392\n",
       "\n",
       "[604 rows x 3 columns]"
      ]
     },
     "execution_count": 70,
     "metadata": {},
     "output_type": "execute_result"
    }
   ],
   "source": [
    "states"
   ]
  },
  {
   "cell_type": "markdown",
   "id": "0ad313da-b733-4f46-b387-ffccf1d7776d",
   "metadata": {},
   "source": [
    "# 5. Customer Segmentation -"
   ]
  },
  {
   "cell_type": "markdown",
   "id": "23684c06-7040-45df-b4a0-4541686f779f",
   "metadata": {},
   "source": [
    "# a. What is the distribution of customers across segments (e.g., Consumer, Corporate)?"
   ]
  },
  {
   "cell_type": "code",
   "execution_count": 67,
   "id": "8bd2f55a-a343-4c9e-960a-79125e056483",
   "metadata": {},
   "outputs": [
    {
     "data": {
      "text/plain": [
       "array(['Consumer', 'Corporate', 'Home Office'], dtype=object)"
      ]
     },
     "execution_count": 67,
     "metadata": {},
     "output_type": "execute_result"
    }
   ],
   "source": [
    "df['Segment'].unique()"
   ]
  },
  {
   "cell_type": "code",
   "execution_count": 80,
   "id": "da32d223-a8a7-44a6-ab3e-2505a65372f8",
   "metadata": {},
   "outputs": [],
   "source": [
    "seg=df.groupby('Segment')['Customer Name'].count()"
   ]
  },
  {
   "cell_type": "code",
   "execution_count": 81,
   "id": "4c1f39d7-40e5-4f0b-8549-44a0bda60c35",
   "metadata": {},
   "outputs": [
    {
     "data": {
      "text/plain": [
       "Segment\n",
       "Consumer       5191\n",
       "Corporate      3020\n",
       "Home Office    1783\n",
       "Name: Customer Name, dtype: int64"
      ]
     },
     "execution_count": 81,
     "metadata": {},
     "output_type": "execute_result"
    }
   ],
   "source": [
    "seg"
   ]
  },
  {
   "cell_type": "code",
   "execution_count": 82,
   "id": "ccaf3da4-f638-4bf3-ac57-80d2c7d5651f",
   "metadata": {},
   "outputs": [
    {
     "data": {
      "image/png": "[encoded data removed]",
      "text/plain": [
       "<Figure size 640x480 with 1 Axes>"
      ]
     },
     "metadata": {},
     "output_type": "display_data"
    }
   ],
   "source": [
    "sns.barplot(x=seg.index, y=seg.values)\n",
    "plt.xlabel('Segment')\n",
    "plt.ylabel('Number of customers')\n",
    "plt.title('The distribution of customers across segments')\n",
    "plt.show()"
   ]
  },
  {
   "cell_type": "markdown",
   "id": "a6ce5c59-c979-4480-b285-b138822c0da8",
   "metadata": {},
   "source": [
    "# b. Who are the top customers in each segment based on total sales or order count?"
   ]
  },
  {
   "cell_type": "code",
   "execution_count": 49,
   "id": "c8a94ed7-222a-42a1-a345-fa52b0fbb358",
   "metadata": {},
   "outputs": [
    {
     "data": {
      "text/html": [
       "<div>\n",
       "<style scoped>\n",
       "    .dataframe tbody tr th:only-of-type {\n",
       "        vertical-align: middle;\n",
       "    }\n",
       "\n",
       "    .dataframe tbody tr th {\n",
       "        vertical-align: top;\n",
       "    }\n",
       "\n",
       "    .dataframe thead th {\n",
       "        text-align: right;\n",
       "    }\n",
       "</style>\n",
       "<table border=\"1\" class=\"dataframe\">\n",
       "  <thead>\n",
       "    <tr style=\"text-align: right;\">\n",
       "      <th></th>\n",
       "      <th>Segment</th>\n",
       "      <th>Customer Name</th>\n",
       "      <th>Sales</th>\n",
       "    </tr>\n",
       "  </thead>\n",
       "  <tbody>\n",
       "    <tr>\n",
       "      <th>0</th>\n",
       "      <td>Home Office</td>\n",
       "      <td>Sean Miller</td>\n",
       "      <td>25043.050</td>\n",
       "    </tr>\n",
       "    <tr>\n",
       "      <th>1</th>\n",
       "      <td>Corporate</td>\n",
       "      <td>Tamara Chand</td>\n",
       "      <td>19052.218</td>\n",
       "    </tr>\n",
       "    <tr>\n",
       "      <th>2</th>\n",
       "      <td>Consumer</td>\n",
       "      <td>Raymond Buch</td>\n",
       "      <td>15117.339</td>\n",
       "    </tr>\n",
       "    <tr>\n",
       "      <th>3</th>\n",
       "      <td>Home Office</td>\n",
       "      <td>Tom Ashbrook</td>\n",
       "      <td>14595.620</td>\n",
       "    </tr>\n",
       "    <tr>\n",
       "      <th>4</th>\n",
       "      <td>Consumer</td>\n",
       "      <td>Adrian Barton</td>\n",
       "      <td>14473.571</td>\n",
       "    </tr>\n",
       "    <tr>\n",
       "      <th>...</th>\n",
       "      <td>...</td>\n",
       "      <td>...</td>\n",
       "      <td>...</td>\n",
       "    </tr>\n",
       "    <tr>\n",
       "      <th>788</th>\n",
       "      <td>Home Office</td>\n",
       "      <td>Roy Skaria</td>\n",
       "      <td>22.328</td>\n",
       "    </tr>\n",
       "    <tr>\n",
       "      <th>789</th>\n",
       "      <td>Corporate</td>\n",
       "      <td>Mitch Gastineau</td>\n",
       "      <td>16.739</td>\n",
       "    </tr>\n",
       "    <tr>\n",
       "      <th>790</th>\n",
       "      <td>Corporate</td>\n",
       "      <td>Carl Jackson</td>\n",
       "      <td>16.520</td>\n",
       "    </tr>\n",
       "    <tr>\n",
       "      <th>791</th>\n",
       "      <td>Corporate</td>\n",
       "      <td>Lela Donovan</td>\n",
       "      <td>5.304</td>\n",
       "    </tr>\n",
       "    <tr>\n",
       "      <th>792</th>\n",
       "      <td>Consumer</td>\n",
       "      <td>Thais Sissman</td>\n",
       "      <td>4.833</td>\n",
       "    </tr>\n",
       "  </tbody>\n",
       "</table>\n",
       "<p>793 rows × 3 columns</p>\n",
       "</div>"
      ],
      "text/plain": [
       "         Segment    Customer Name      Sales\n",
       "0    Home Office      Sean Miller  25043.050\n",
       "1      Corporate     Tamara Chand  19052.218\n",
       "2       Consumer     Raymond Buch  15117.339\n",
       "3    Home Office     Tom Ashbrook  14595.620\n",
       "4       Consumer    Adrian Barton  14473.571\n",
       "..           ...              ...        ...\n",
       "788  Home Office       Roy Skaria     22.328\n",
       "789    Corporate  Mitch Gastineau     16.739\n",
       "790    Corporate     Carl Jackson     16.520\n",
       "791    Corporate     Lela Donovan      5.304\n",
       "792     Consumer    Thais Sissman      4.833\n",
       "\n",
       "[793 rows x 3 columns]"
      ]
     },
     "execution_count": 49,
     "metadata": {},
     "output_type": "execute_result"
    }
   ],
   "source": [
    "data=df.groupby(['Segment','Customer Name'])['Sales'].sum().sort_values(ascending=False).reset_index()\n",
    "data"
   ]
  },
  {
   "cell_type": "code",
   "execution_count": 48,
   "id": "256afbbb-04d9-4541-b73e-909adf05f7c4",
   "metadata": {},
   "outputs": [
    {
     "data": {
      "text/html": [
       "<div>\n",
       "<style scoped>\n",
       "    .dataframe tbody tr th:only-of-type {\n",
       "        vertical-align: middle;\n",
       "    }\n",
       "\n",
       "    .dataframe tbody tr th {\n",
       "        vertical-align: top;\n",
       "    }\n",
       "\n",
       "    .dataframe thead th {\n",
       "        text-align: right;\n",
       "    }\n",
       "</style>\n",
       "<table border=\"1\" class=\"dataframe\">\n",
       "  <thead>\n",
       "    <tr style=\"text-align: right;\">\n",
       "      <th></th>\n",
       "      <th>Segment</th>\n",
       "      <th>Customer Name</th>\n",
       "      <th>Order ID</th>\n",
       "    </tr>\n",
       "  </thead>\n",
       "  <tbody>\n",
       "    <tr>\n",
       "      <th>0</th>\n",
       "      <td>Consumer</td>\n",
       "      <td>William Brown</td>\n",
       "      <td>37</td>\n",
       "    </tr>\n",
       "    <tr>\n",
       "      <th>1</th>\n",
       "      <td>Home Office</td>\n",
       "      <td>Matt Abelman</td>\n",
       "      <td>34</td>\n",
       "    </tr>\n",
       "    <tr>\n",
       "      <th>2</th>\n",
       "      <td>Consumer</td>\n",
       "      <td>John Lee</td>\n",
       "      <td>34</td>\n",
       "    </tr>\n",
       "    <tr>\n",
       "      <th>3</th>\n",
       "      <td>Home Office</td>\n",
       "      <td>Paul Prost</td>\n",
       "      <td>34</td>\n",
       "    </tr>\n",
       "    <tr>\n",
       "      <th>4</th>\n",
       "      <td>Consumer</td>\n",
       "      <td>Seth Vernon</td>\n",
       "      <td>32</td>\n",
       "    </tr>\n",
       "    <tr>\n",
       "      <th>...</th>\n",
       "      <td>...</td>\n",
       "      <td>...</td>\n",
       "      <td>...</td>\n",
       "    </tr>\n",
       "    <tr>\n",
       "      <th>788</th>\n",
       "      <td>Consumer</td>\n",
       "      <td>Jocasta Rupert</td>\n",
       "      <td>1</td>\n",
       "    </tr>\n",
       "    <tr>\n",
       "      <th>789</th>\n",
       "      <td>Corporate</td>\n",
       "      <td>Lela Donovan</td>\n",
       "      <td>1</td>\n",
       "    </tr>\n",
       "    <tr>\n",
       "      <th>790</th>\n",
       "      <td>Consumer</td>\n",
       "      <td>Ricardo Emerson</td>\n",
       "      <td>1</td>\n",
       "    </tr>\n",
       "    <tr>\n",
       "      <th>791</th>\n",
       "      <td>Corporate</td>\n",
       "      <td>Carl Jackson</td>\n",
       "      <td>1</td>\n",
       "    </tr>\n",
       "    <tr>\n",
       "      <th>792</th>\n",
       "      <td>Corporate</td>\n",
       "      <td>Anthony O'Donnell</td>\n",
       "      <td>1</td>\n",
       "    </tr>\n",
       "  </tbody>\n",
       "</table>\n",
       "<p>793 rows × 3 columns</p>\n",
       "</div>"
      ],
      "text/plain": [
       "         Segment      Customer Name  Order ID\n",
       "0       Consumer      William Brown        37\n",
       "1    Home Office       Matt Abelman        34\n",
       "2       Consumer           John Lee        34\n",
       "3    Home Office         Paul Prost        34\n",
       "4       Consumer        Seth Vernon        32\n",
       "..           ...                ...       ...\n",
       "788     Consumer     Jocasta Rupert         1\n",
       "789    Corporate       Lela Donovan         1\n",
       "790     Consumer    Ricardo Emerson         1\n",
       "791    Corporate       Carl Jackson         1\n",
       "792    Corporate  Anthony O'Donnell         1\n",
       "\n",
       "[793 rows x 3 columns]"
      ]
     },
     "execution_count": 48,
     "metadata": {},
     "output_type": "execute_result"
    }
   ],
   "source": [
    "data=df.groupby(['Segment','Customer Name'])['Order ID'].count().sort_values(ascending=False).reset_index()\n",
    "data"
   ]
  },
  {
   "cell_type": "code",
   "execution_count": null,
   "id": "41336379-6dfb-4908-a901-a5bff5a9de6c",
   "metadata": {},
   "outputs": [],
   "source": []
  }
 ],
 "metadata": {
  "kernelspec": {
   "display_name": "Python 3 (ipykernel)",
   "language": "python",
   "name": "python3"
  },
  "language_info": {
   "codemirror_mode": {
    "name": "ipython",
    "version": 3
   },
   "file_extension": ".py",
   "mimetype": "text/x-python",
   "name": "python",
   "nbconvert_exporter": "python",
   "pygments_lexer": "ipython3",
   "version": "3.11.5"
  }
 },
 "nbformat": 4,
 "nbformat_minor": 5
}
